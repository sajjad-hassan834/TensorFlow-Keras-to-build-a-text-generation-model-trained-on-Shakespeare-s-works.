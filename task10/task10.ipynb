{
 "cells": [
  {
   "cell_type": "code",
   "execution_count": 1,
   "id": "e7678651-ec97-4bbf-8a48-41408057929a",
   "metadata": {},
   "outputs": [
    {
     "name": "stdout",
     "output_type": "stream",
     "text": [
      "Length of text: 1115394 characters\n"
     ]
    }
   ],
   "source": [
    "import tensorflow as tf\n",
    "from tensorflow.keras.preprocessing.text import Tokenizer\n",
    "from tensorflow.keras.preprocessing.sequence import pad_sequences\n",
    "import numpy as np\n",
    "\n",
    "# Load Shakespeare's text\n",
    "path_to_file = tf.keras.utils.get_file('shakespeare.txt', 'https://storage.googleapis.com/download.tensorflow.org/data/shakespeare.txt')\n",
    "text = open(path_to_file, 'rb').read().decode(encoding='utf-8')\n",
    "\n",
    "print(f\"Length of text: {len(text)} characters\")"
   ]
  },
  {
   "cell_type": "code",
   "execution_count": null,
   "id": "8788a130-53d2-4144-896b-23060151dac2",
   "metadata": {},
   "outputs": [],
   "source": [
    "# Tokenization\n",
    "tokenizer = Tokenizer(char_level=True)\n",
    "tokenizer.fit_on_texts([text])\n",
    "total_words = len(tokenizer.word_index) + 1"
   ]
  },
  {
   "cell_type": "code",
   "execution_count": null,
   "id": "a8b8315a-1cae-401f-8cf3-3cf51fe5208d",
   "metadata": {},
   "outputs": [],
   "source": [
    "# Convert text to sequences of integers\n",
    "sequences = tokenizer.texts_to_sequences([text])[0]"
   ]
  },
  {
   "cell_type": "code",
   "execution_count": null,
   "id": "0d6ed325-440b-4fe0-aac3-693e6d50b402",
   "metadata": {},
   "outputs": [],
   "source": [
    "# Create input-output pairs\n",
    "input_sequences = []\n",
    "for i in range(1, len(sequences)):\n",
    "    n_gram_sequence = sequences[:i+1]\n",
    "    input_sequences.append(n_gram_sequence)"
   ]
  },
  {
   "cell_type": "code",
   "execution_count": null,
   "id": "6e301049-767f-419b-b6e7-cdf55bc5aa9e",
   "metadata": {},
   "outputs": [],
   "source": [
    "# Pad sequences\n",
    "max_sequence_len = max([len(seq) for seq in input_sequences])\n",
    "input_sequences = pad_sequences(input_sequences, maxlen=max_sequence_len, padding='pre')\n",
    "\n",
    "# Split into predictors and label\n",
    "X = input_sequences[:, :-1]\n",
    "y = input_sequences[:, -1]\n",
    "\n",
    "# One-hot encode the labels\n",
    "y = tf.keras.utils.to_categorical(y, num_classes=total_words)"
   ]
  },
  {
   "cell_type": "code",
   "execution_count": null,
   "id": "08207443-1d8c-40f7-9469-bf29f99074e7",
   "metadata": {},
   "outputs": [],
   "source": [
    "from tensorflow.keras.models import Sequential\n",
    "from tensorflow.keras.layers import Embedding, LSTM, Dense\n",
    "\n",
    "def build_lstm_model(total_words, max_sequence_len):\n",
    "    model = Sequential([\n",
    "        Embedding(total_words, 100, input_length=max_sequence_len-1),\n",
    "        LSTM(150, return_sequences=False),\n",
    "        Dense(total_words, activation='softmax')\n",
    "    ])\n",
    "    model.compile(loss='categorical_crossentropy', optimizer='adam', metrics=['accuracy'])\n",
    "    return model\n",
    "\n",
    "lstm_model = build_lstm_model(total_words, max_sequence_len)\n",
    "lstm_model.summary()"
   ]
  },
  {
   "cell_type": "code",
   "execution_count": null,
   "id": "212daf6f-58e4-4ef2-b05d-07ef6ebe971f",
   "metadata": {},
   "outputs": [],
   "source": [
    "from tensorflow.keras.layers import GRU\n",
    "\n",
    "def build_gru_model(total_words, max_sequence_len):\n",
    "    model = Sequential([\n",
    "        Embedding(total_words, 100, input_length=max_sequence_len-1),\n",
    "        GRU(150, return_sequences=False),\n",
    "        Dense(total_words, activation='softmax')\n",
    "    ])\n",
    "    model.compile(loss='categorical_crossentropy', optimizer='adam', metrics=['accuracy'])\n",
    "    return model\n",
    "\n",
    "gru_model = build_gru_model(total_words, max_sequence_len)\n",
    "gru_model.summary()"
   ]
  },
  {
   "cell_type": "code",
   "execution_count": null,
   "id": "8caff6ed-3edd-480c-aeba-bf0757270580",
   "metadata": {},
   "outputs": [],
   "source": [
    "# Train LSTM Model\n",
    "lstm_history = lstm_model.fit(X, y, epochs=50, verbose=1)\n",
    "\n",
    "# Train GRU Model\n",
    "gru_history = gru_model.fit(X, y, epochs=50, verbose=1)"
   ]
  },
  {
   "cell_type": "code",
   "execution_count": null,
   "id": "89d13e25-d5d5-40af-a4ec-342e89186c8c",
   "metadata": {},
   "outputs": [],
   "source": [
    "def generate_text(seed_text, next_words, model, max_sequence_len):\n",
    "    for _ in range(next_words):\n",
    "        token_list = tokenizer.texts_to_sequences([seed_text])[0]\n",
    "        token_list = pad_sequences([token_list], maxlen=max_sequence_len-1, padding='pre')\n",
    "        predicted_probs = model.predict(token_list, verbose=0)\n",
    "        predicted_index = np.argmax(predicted_probs, axis=1)[0]\n",
    "        \n",
    "        output_word = \"\"\n",
    "        for word, index in tokenizer.word_index.items():\n",
    "            if index == predicted_index:\n",
    "                output_word = word\n",
    "                break\n",
    "        seed_text += \" \" + output_word\n",
    "    return seed_text\n"
   ]
  },
  {
   "cell_type": "code",
   "execution_count": null,
   "id": "654b05fc-e2f7-44cc-a824-7ca932e09e9a",
   "metadata": {},
   "outputs": [],
   "source": [
    "# Generate text using LSTM\n",
    "lstm_generated_text = generate_text(\"shall i compare thee\", 50, lstm_model, max_sequence_len)\n",
    "print(\"LSTM Generated Text:\\n\", lstm_generated_text)\n",
    "\n",
    "# Generate text using GRU\n",
    "gru_generated_text = generate_text(\"shall i compare thee\", 50, gru_model, max_sequence_len)\n",
    "print(\"GRU Generated Text:\\n\", gru_generated_text)"
   ]
  },
  {
   "cell_type": "code",
   "execution_count": null,
   "id": "532d74f8-7755-4f9d-8cf0-8ae167609431",
   "metadata": {},
   "outputs": [],
   "source": [
    "import matplotlib.pyplot as plt\n",
    "\n",
    "# Plot training loss\n",
    "plt.plot(lstm_history.history['loss'], label='LSTM Loss')\n",
    "plt.plot(gru_history.history['loss'], label='GRU Loss')\n",
    "plt.title('Training Loss Comparison')\n",
    "plt.xlabel('Epochs')\n",
    "plt.ylabel('Loss')\n",
    "plt.legend()\n",
    "plt.show()\n"
   ]
  },
  {
   "cell_type": "code",
   "execution_count": null,
   "id": "2accc2e8-6f2b-4682-9668-9bbcb9847d2f",
   "metadata": {},
   "outputs": [],
   "source": [
    "# Plot training accuracy\n",
    "plt.plot(lstm_history.history['accuracy'], label='LSTM Accuracy')\n",
    "plt.plot(gru_history.history['accuracy'], label='GRU Accuracy')\n",
    "plt.title('Training Accuracy Comparison')\n",
    "plt.xlabel('Epochs')\n",
    "plt.ylabel('Accuracy')\n",
    "plt.legend()\n",
    "plt.show()"
   ]
  },
  {
   "cell_type": "code",
   "execution_count": null,
   "id": "00a8a46a-87b9-4c91-b7fd-ffd59974e2b1",
   "metadata": {},
   "outputs": [],
   "source": []
  },
  {
   "cell_type": "code",
   "execution_count": null,
   "id": "abafcd10-9bb9-4bb2-aac7-5af62bfaecae",
   "metadata": {},
   "outputs": [],
   "source": []
  },
  {
   "cell_type": "code",
   "execution_count": null,
   "id": "212a0dc7-2734-42c9-95f3-15472d211bb5",
   "metadata": {},
   "outputs": [],
   "source": []
  },
  {
   "cell_type": "code",
   "execution_count": null,
   "id": "ff8888a3-66d9-427c-9e45-527e1ed987cd",
   "metadata": {},
   "outputs": [],
   "source": []
  },
  {
   "cell_type": "code",
   "execution_count": null,
   "id": "8cb7b800-fb74-4f68-818c-340e86dc96e6",
   "metadata": {},
   "outputs": [],
   "source": []
  },
  {
   "cell_type": "code",
   "execution_count": null,
   "id": "71c98bbd-b90c-4bcd-af43-31a66f80780c",
   "metadata": {},
   "outputs": [],
   "source": []
  },
  {
   "cell_type": "code",
   "execution_count": null,
   "id": "aed028ee-b22d-4de3-8eb7-92a066c9b6e3",
   "metadata": {},
   "outputs": [],
   "source": []
  },
  {
   "cell_type": "code",
   "execution_count": null,
   "id": "3a9e81a7-d214-4111-a57f-68eb5bbf151c",
   "metadata": {},
   "outputs": [],
   "source": []
  },
  {
   "cell_type": "code",
   "execution_count": null,
   "id": "9b9219aa-51f9-4a6c-bb36-d70732470dad",
   "metadata": {},
   "outputs": [],
   "source": []
  },
  {
   "cell_type": "code",
   "execution_count": null,
   "id": "b69a276d-a1ad-4ac8-9f88-ff9d971f3f98",
   "metadata": {},
   "outputs": [],
   "source": []
  },
  {
   "cell_type": "code",
   "execution_count": null,
   "id": "43f30ee2-2896-4d58-88d6-6d80f16dc4b5",
   "metadata": {},
   "outputs": [],
   "source": []
  }
 ],
 "metadata": {
  "kernelspec": {
   "display_name": "Python 3 (ipykernel)",
   "language": "python",
   "name": "python3"
  },
  "language_info": {
   "codemirror_mode": {
    "name": "ipython",
    "version": 3
   },
   "file_extension": ".py",
   "mimetype": "text/x-python",
   "name": "python",
   "nbconvert_exporter": "python",
   "pygments_lexer": "ipython3",
   "version": "3.11.0"
  }
 },
 "nbformat": 4,
 "nbformat_minor": 5
}
